{
  "nbformat": 4,
  "nbformat_minor": 0,
  "metadata": {
    "colab": {
      "provenance": [],
      "authorship_tag": "ABX9TyNrTEUt1arJEJyVZrCCf4FT",
      "include_colab_link": true
    },
    "kernelspec": {
      "name": "python3",
      "display_name": "Python 3"
    },
    "language_info": {
      "name": "python"
    }
  },
  "cells": [
    {
      "cell_type": "markdown",
      "metadata": {
        "id": "view-in-github",
        "colab_type": "text"
      },
      "source": [
        "<a href=\"https://colab.research.google.com/github/carnez9/juego-de-adivinar/blob/main/JUego_de__adivinar.ipynb\" target=\"_parent\"><img src=\"https://colab.research.google.com/assets/colab-badge.svg\" alt=\"Open In Colab\"/></a>"
      ]
    },
    {
      "cell_type": "markdown",
      "source": [
        "##presentado por: Carlos nuñez Carlos.nunez@upb.edu.co"
      ],
      "metadata": {
        "id": "cANdM79ezz1f"
      }
    },
    {
      "cell_type": "code",
      "execution_count": 1,
      "metadata": {
        "colab": {
          "base_uri": "https://localhost:8080/"
        },
        "id": "O3OEXrzPyd8n",
        "outputId": "d7833b1f-196c-42fe-d6cd-ad9e6e818191"
      },
      "outputs": [
        {
          "name": "stdout",
          "output_type": "stream",
          "text": [
            "Bienvenido\n",
            "Ingresa el número de filas del tablero,3\n",
            "Ingresa el número de columnas del tablero: 3\n",
            "* b 10\n",
            "10 h b\n",
            "d h 5\n",
            "encuentra el valor oculto: 4\n",
            "No, sigue intentado.\n",
            "encuentra el valor oculto: 5\n",
            "No, sigue intentado.\n",
            "encuentra el valor oculto: 6\n",
            "No, sigue intentado.\n",
            "encuentra el valor oculto: 8\n",
            "No, sigue intentado.\n",
            "encuentra el valor oculto: 9\n",
            "te has equivocado : b\n",
            "¿Quieres jugar de nuevo? (s/n): n\n"
          ]
        }
      ],
      "source": [
        "import random\n",
        "\n",
        "def generate_board(size, options):\n",
        "\n",
        "    rows, cols = size\n",
        "    board = [[random.choice([random.randint(1, 10)] + options) for _ in range(cols)] for _ in range(rows)]\n",
        "    return board\n",
        "\n",
        "def show_board(board):\n",
        "\n",
        "    for row in board:\n",
        "        print(' '.join(str(x) for x in row))\n",
        "\n",
        "def hide_value(board):\n",
        "\n",
        "    secret_row = random.randint(0, len(board) - 1)\n",
        "    secret_col = random.randint(0, len(board[0]) - 1)\n",
        "    secret_value = board[secret_row][secret_col]\n",
        "    board[secret_row][secret_col] = '*'\n",
        "    return secret_value, board\n",
        "\n",
        "def is_valid_input(guess):\n",
        "\n",
        "    return guess.isdigit() or guess.isalpha()\n",
        "\n",
        "def play_game(size, options):\n",
        "\n",
        "    board = generate_board(size, options)\n",
        "    secret_value, hidden_board = hide_value(board)\n",
        "    show_board(hidden_board)\n",
        "\n",
        "    attempts = 0\n",
        "    while True:\n",
        "        guess = input(\"encuentra el valor oculto: \")\n",
        "        attempts += 1\n",
        "\n",
        "        if is_valid_input(guess):\n",
        "            if guess == str(secret_value):\n",
        "                print(\"¡Lo lograste! Adivinaste el valor secreto.\")\n",
        "                break\n",
        "            elif attempts >= 5:\n",
        "                print(\"no lo escontraste era  :\", secret_value)\n",
        "                break\n",
        "            else:\n",
        "                print(\"No, sigue intentado.\")\n",
        "        else:\n",
        "            print(\"Por favor, ingresa un número o letra válida.\")\n",
        "\n",
        "def main():\n",
        "    print(\"Bienvenido\")\n",
        "    rows = int(input(\"Ingresa el número de filas del tablero,\"))\n",
        "    cols = int(input(\"Ingresa el número de columnas del tablero: \"))\n",
        "    size = (rows, cols)\n",
        "    options = ['b', 'd', 'h']\n",
        "\n",
        "    play_game(size, options)\n",
        "\n",
        "    while True:\n",
        "        play_again = input(\"¿Quieres jugar de nuevo? (s/n): \").lower()\n",
        "        if play_again != 's':\n",
        "            break\n",
        "        play_game(size, options)\n",
        "\n",
        "if __name__ == \"__main__\":\n",
        "    main()"
      ]
    }
  ]
}